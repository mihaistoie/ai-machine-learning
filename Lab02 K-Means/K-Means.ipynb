{
  "cells": [
    {
      "cell_type": "markdown",
      "metadata": {
        "colab_type": "text",
        "id": "5EUYXsI3JoDe"
      },
      "source": [
        "# Apprentissage Automatique  \n",
        "# Regroupement. Algorithme K-Means  \n",
        "\n",
        "### Auteurs :  \n",
        "* Tudor Berariu - 2016  \n",
        "* George Muraru - 2020  "
      ]
    },
    {
      "cell_type": "markdown",
      "metadata": {
        "colab_type": "text",
        "id": "N9EKsaOzJ4Y6"
      },
      "source": [
        "## 1. Objectif du laboratoire  \n",
        "\n",
        "L’objectif du laboratoire est de comprendre et d’implémenter une méthode d’apprentissage non supervisé pour le regroupement (*clustering*) : **l’algorithme K-Means**.  \n",
        "\n",
        "La structure du document est la suivante :  \n",
        "* [Section 2](#scrollTo=lmsr8fvNKQ5m) présente le contexte théorique et formalise le problème à résoudre  \n",
        "* [Section 3](#scrollTo=Aj8ThCuUKcEB) décrit l’algorithme K-Means  \n",
        "* [Section 4](#scrollTo=j5zthcYxMllG) énumère certaines des limites de l’algorithme K-Means et propose quelques solutions simples pour les surmonter  \n",
        "* [Section 5](#scrollTo=yWjTUpn9OVY9) décrit quelques méthodes avancées pour le choix des centroïdes  \n",
        "* [Section 6](#scrollTo=yWjTUpn9OVY9) présente la méthode d’évaluation de la performance de l’algorithme  \n",
        "* [Section 7](#scrollTo=dDFqbGHmDqtt) contient une configuration initiale à exécuter sur Colab (ou localement) pour installer les dépendances  \n",
        "* [Section 8](#scrollTo=2xk677iNQRvQ) contient les exercices à réaliser dans le cadre du laboratoire  \n",
        "* [Section 9](#scrollTo=muZzrV7uVxXv) propose une description de l’ensemble de données utilisé  \n"
      ]
    },
    {
      "cell_type": "markdown",
      "metadata": {
        "colab_type": "text",
        "id": "lmsr8fvNKQ5m"
      },
      "source": [
        "\n",
        "## 2. Problème  \n",
        "\n",
        "L’un des problèmes fondamentaux de l’apprentissage automatique est l’identification de groupes (en anglais, *clusters*) dans un ensemble d’objets, de sorte que les objets appartenant au même groupe présentent un degré élevé de similarité. Ce problème d’apprentissage non supervisé est appelé **analyse de regroupement** (*cluster analysis*).  \n",
        "\n",
        "Le problème du regroupement peut être formalisé de différentes manières, et plusieurs approches existent.  \n",
        "Dans ce laboratoire, nous allons résoudre le problème du regroupement basé sur les **centroïdes** (*centroid-based clustering*).  \n",
        "\n",
        "On considère un ensemble de données $X = \\{x_{1} , . . . x_{N}\\}$ contenant \\( N \\) exemples dans un espace de D-dimension.  \n",
        "L’objectif est de partitionner cet ensemble de données en K groupes représentés par K vecteurs prototypes (en anglais prototype vectors) $c_{k}$ (où $k \\in \\{1,.,K\\}$), appelés centres ou **centroïdes**, de manière à minimiser la distance totale entre chaque exemple et le centroïde le plus proche :  \n",
        "\n",
        "\n",
        "\n",
        "$$\n",
        "\\begin{equation}\n",
        "J = \\sum_{i=1}^{N}\\sum_{k=1}^{K}in_{i,k} \\cdot \\left\\Vert{x_{i} - c_{k}}\\right\\Vert^2 \\tag{1}\n",
        "\\end{equation}\n",
        "$$\n",
        "\n",
        "$$\n",
        "\\begin{equation}\n",
        "in_{i,k} = \n",
        "    \\begin{cases}\n",
        "    1, si\\ k = arg\\ min\\left\\Vert{x_{i} - c_{l}}\\right\\Vert\\\\\n",
        "    0, sinon\n",
        "    \\end{cases} \\tag{2}\n",
        "\\end{equation}\n",
        "$$\n",
        "\n",
        "\n",
        "---"
      ]
    },
    {
      "cell_type": "markdown",
      "metadata": {
        "colab_type": "text",
        "id": "Aj8ThCuUKcEB"
      },
      "source": [
        "## 3. L'Algorithme K-Means\n",
        "\n",
        "<img src=\"./k-means.gif\" style=\"margin-left: 50;\" align=\"right\" width=\"350\" height=\"350\"/>\n",
        "\n",
        "\n",
        "L'algorithme des  K-Means [[1]](#M67) démarre avec un ensemble de K centroïdes choisis aléatoirement dans l'ensemble d'objets. Les deux étapes suivantes sont répétées alternativement jusqu'à ce que l'algorithme converge :\n",
        "\n",
        "1. Tous les objets de l'ensemble de données sont parcourus et chacun est attribué au groupe correspondant au centroïde le plus proche.\n",
        "2. Le centroïde de chaque groupe est recalculé.\n",
        "\n",
        "L'algorithme converge lorsqu'après une itération, la composition des groupes n'a pas changé.\n",
        "\n",
        "Pour comprendre pourquoi l'algorithme des K-moyennes trouve un minimum de l'expression J (Formule 1), il faut noter que les deux étapes optimisent successivement les paramètres $in_{i,k}$ et $c_{k}$.\n",
        "\n",
        "1. En fixant $c_{k}$, $in_{i,k}$ est recalculé selon l'équation 2.\n",
        "2. En fixant $in_{i,k}$, un minimum de l'expression $J$ est trouvé au point où la dérivée est nulle :\n",
        "\n",
        "$$\n",
        "\\begin{equation}\n",
        "\\sum_{i=1}^{N}in_{i,k}(x_{i} - c_{k}) = 0\n",
        "\\end{equation}\n",
        "$$\n",
        "\n",
        "**Algorithme K-Means**\n",
        "\n",
        "**Entrée :**\n",
        "\n",
        "* $X = \\{x_1, x_2, ..., x_N\\}$ : L'ensemble de données avec $N$ points.\n",
        "* $K$ : Le nombre de clusters souhaité.\n",
        "\n",
        "**Sortie :**\n",
        "\n",
        "* $C = \\{c_1, c_2, ..., c_K\\}$ : L'ensemble des centroïdes des clusters.\n",
        "* $in_{i,k}$ : L'indicateur qui montre si le point $x_i$ appartient au cluster $k$.\n",
        "\n",
        "**Algorithme :**\n",
        "\n",
        "1. **Fonction**  K-Means($X$, $K$) :\n",
        "2. Pour $k = 1$ jusqu'à $K$ exécuter :\n",
        "    * $c_k \\leftarrow$ rand($X$) (Les centroïdes initiaux sont choisis aléatoirement dans l'ensemble de données)\n",
        "3. Répéter :\n",
        "    * Pour $i = 1$ jusqu'à $N$ exécuter :\n",
        "        * $in_{i,k} \\leftarrow \\begin{cases} 1, & \\text{si } k = \\arg\\min_l ||x_i - c_l||^2 \\\\ 0, & \\text{sinon} \\end{cases}$ (L'exemple est associé au groupe le plus proche)\n",
        "    * Pour $k = 1$ jusqu'à $K$ exécuter :\n",
        "        * $c_k \\leftarrow \\frac{\\sum_{i=1}^N in_{i,k} x_i}{\\sum_{i=1}^N in_{i,k}}$ ($c_k$ devient la moyenne de tous les exemples du groupe $k$)\n",
        "4. Jusqu'à ce que l'algorithme converge.\n"
      ]
    },
    {
      "cell_type": "markdown",
      "metadata": {
        "colab_type": "text",
        "id": "j5zthcYxMllG"
      },
      "source": [
        "## 4. Limites de l'algorithme K-Means\n",
        "\n",
        "L'algorithme K-Means présente les limitations importantes suivantes:\n",
        "\n",
        "1.  **Le nombre de groupes K doit être connu a priori.**\n",
        "    * Si ce nombre n'est pas connu, on peut exécuter l'algorithme pour différentes valeurs de K et choisir une partition appropriée. Sinon, on peut choisir une autre méthode de regroupement.\n",
        "2.  **L'algorithme converge vers un minimum local.**\n",
        "    * Il n'existe pas de méthode tractable qui garantisse un minimum global. En pratique, il est courant d'exécuter l'algorithme plusieurs fois et de conserver le meilleur résultat.\n",
        "3.  **Le résultat de l'algorithme dépend du choix des centroïdes initiaux.**\n",
        "    * Il existe plusieurs stratégies pour le choix des centroïdes initiaux ($c_{k}, 1 \\le k \\le K$), dont deux sont décrites dans [Section 5](#scrollTo=YB_3ayRlOOPP)."
      ]
    },
    {
      "cell_type": "markdown",
      "metadata": {
        "colab_type": "text",
        "id": "YB_3ayRlOOPP"
      },
      "source": [
        "## 5. Choix des centroïdes initiaux\n",
        "\n",
        "Dans l'algorithme classique K-Means, les K centroïdes initiaux sont choisis aléatoirement dans l'ensemble des objets du jeu de données. Les deux meilleures méthodes pour cette étape sont décrites ci-dessous.\n",
        "\n",
        "### 5.1 Algorithme K-Means++\n",
        "\n",
        "L'algorithme K-Means++ [[2]](#AV07) est une variante améliorée de l'algorithme K-Means dans laquelle les centroïdes initiaux sont choisis comme suit:\n",
        "\n",
        "* Le premier centroïde $c_{1}$ est choisi aléatoirement dans le jeu de données.\n",
        "* Les $K − 1$ suivants sont choisis successivement parmi les objets du jeu de données avec une probabilité:\n",
        "\n",
        "$$\n",
        "\\begin{equation}\n",
        "p_i = \\frac{D(x_{i})^2}{\\sum_{x\\in{X}}D(x)^2}\n",
        "\\end{equation}\n",
        "$$\n",
        "\n",
        "pour chaque objet $x_{i}\\in{X}$, où $D(x)$ est la plus petite distance entre l'objet $x$ et un centroïde déjà choisi.\n",
        "\n",
        "### 5.2 Méthode Kaufman\n",
        "\n",
        "Dans [[3]](#AV07), plusieurs méthodes d'initialisation des centroïdes pour l'algorithme K-Means ont été testées sur différents jeux de données. Les résultats ont montré que l'une des meilleures méthodes est celle proposée par Kaufman. On choisit d'abord l'objet le plus central du jeu de données, puis on ajoute successivement les objets qui rassemblent autour d'eux le plus grand nombre d'éléments.\n",
        "\n",
        "\n",
        "\n",
        "Algorithme de Kaufman pour la sélection des centroïdes initiaux\n",
        "\n",
        "1. **Fonction** KAUFMAN($X$, $K$) :\n",
        "2. $c_1 \\leftarrow$ l'exemple le plus central de $X$\n",
        "3. Pour $k = 2$ jusqu'à $K$ exécuter :\n",
        "    * Pour $x_i \\in X$ exécuter :\n",
        "        * Pour $x_j \\in X \\setminus \\{x_i\\}$ exécuter :\n",
        "            * $d_j \\leftarrow \\min_{l=1...k-1} ||c_l - x_j||$\n",
        "            * $c_{ij} \\leftarrow \\max(d_j - ||x_i - x_j||, 0)$\n",
        "        * $g_i \\leftarrow \\sum_j c_{ij}$\n",
        "    * $idx \\leftarrow \\arg\\max_i g_i$\n",
        "    * $c_k \\leftarrow x_{idx}$  ▷ on choisit $x$ pour lequel $G$ est maximal\n"
      ]
    },
    {
      "cell_type": "markdown",
      "metadata": {
        "colab_type": "text",
        "id": "yWjTUpn9OVY9"
      },
      "source": [
        "## 6. Évaluation d'un regroupement\n",
        "\n",
        "Il n'existe pas de recette unique pour évaluer un regroupement réalisé pour un ensemble de données. En général, les métriques tiennent compte du fait que les exemples d'un groupe doivent être aussi proches/similaires que possible, et ceux de groupes différents doivent être aussi différents que possible.\n",
        "\n",
        "Si les classes réelles sont connues (comme dans un problème d'apprentissage supervisé), alors l'évaluation peut être effectuée plus facilement. Parmi les méthodes existantes, *Rand Index* est décrit ci-dessous.\n",
        "\n",
        "### 6.1 Rand Index\n",
        "\n",
        "Étant donné un regroupement C et les valeurs réelles T des classes auxquelles appartiennent les objets d'un ensemble de données, nous définissons:\n",
        "\n",
        "* *TP (vrais positifs)* le nombre de paires i, j qui sont dans le même groupe dans C et ont la même classe dans T;\n",
        "* *FP (faux positifs)* le nombre de paires i, j qui sont dans le même groupe dans C, mais sont dans des classes différentes dans T;\n",
        "* *FN (faux négatifs)* le nombre de paires i, j qui sont dans des groupes différents dans C, mais ont la même classe dans T;\n",
        "* *TN (vrais négatifs)* le nombre de paires i, j qui sont dans des groupes différents dans C et ont des classes différentes dans T.\n",
        "\n",
        "La métrique *Rand Index* est:\n",
        "\n",
        "$\n",
        "\\begin{equation}\n",
        "R = \\frac{TP + TN}{TP + FP + FN + TN} \\in [0, 1]\n",
        "\\end{equation}\n",
        "$"
      ]
    },
    {
      "cell_type": "markdown",
      "metadata": {
        "colab_type": "text",
        "id": "dDFqbGHmDqtt"
      },
      "source": [
        "## 7. Workspace Setup"
      ]
    },
    {
      "cell_type": "markdown",
      "metadata": {
        "colab_type": "text",
        "id": "vwR9zMQRtihy"
      },
      "source": [
        "### Dépendances\n"
      ]
    },
    {
      "cell_type": "code",
      "execution_count": 17,
      "metadata": {
        "colab": {},
        "colab_type": "code",
        "id": "mr7MO4rQtoqj"
      },
      "outputs": [],
      "source": [
        "#!pip install matplotlib\n",
        "#!pip install numpy"
      ]
    },
    {
      "cell_type": "markdown",
      "metadata": {
        "colab_type": "text",
        "id": "C5l_vdbW6enZ"
      },
      "source": [
        "### Quelques bibliothèques dont nous aurons besoin"
      ]
    },
    {
      "cell_type": "code",
      "execution_count": 18,
      "metadata": {
        "colab": {},
        "colab_type": "code",
        "id": "uK1fxRNOXteB"
      },
      "outputs": [],
      "source": [
        "%matplotlib inline\n",
        "\n",
        "import numpy as np\n",
        "from zipfile import ZipFile\n",
        "from random import randint\n",
        "\n",
        "# Plotting stuff\n",
        "import matplotlib.pyplot as plt\n",
        "import matplotlib.markers\n",
        "from mpl_toolkits.mplot3d import Axes3D"
      ]
    },
    {
      "cell_type": "markdown",
      "metadata": {
        "colab_type": "text",
        "id": "kVQscCaxXfvF"
      },
      "source": [
        "### Paramètres nécessaires à l'exécution\n"
      ]
    },
    {
      "cell_type": "code",
      "execution_count": 19,
      "metadata": {
        "colab": {},
        "colab_type": "code",
        "id": "TEHiJQeYXjCf"
      },
      "outputs": [],
      "source": [
        "DATASET_NAME = 'Hepta'  #@param ['Atom', 'Chainlink', 'EngyTime', 'GolfBall', 'Hepta', 'Lsun', 'Target', 'TwoDiamonds', 'WingNut']\n",
        "# Hepta is part of the Fundamental Clustering Problem Suit,  Size 212, Dimensions 3 (Hepta$Data), Classes 7 (Hepta$Cls)\n",
        "# Numărul de clustere\n",
        "K = 7  #@param {type: \"slider\", min: 2, max: 10}"
      ]
    },
    {
      "cell_type": "markdown",
      "metadata": {
        "colab_type": "text",
        "id": "3Q9tBSFJYt5D"
      },
      "source": [
        "### Fonctions auxiliaires pour le téléchargement et la manipulation de l'ensemble de données"
      ]
    },
    {
      "cell_type": "code",
      "execution_count": 20,
      "metadata": {
        "colab": {},
        "colab_type": "code",
        "id": "SMvyyQnlYiIr"
      },
      "outputs": [],
      "source": [
        "def getArchive():\n",
        "    \"\"\" Checks if FCPS.zip is present in the local directory, if not,\n",
        "    downloads it.\n",
        "\n",
        "    Returns:\n",
        "        A ZipFile object for the FCPS archive\n",
        "    \"\"\"\n",
        "\n",
        "    archive_url = (\"https://github.com/cs-pub-ro/ML/raw/master/lab/lab1/FCPS.zip\")\n",
        "    local_archive = \"FCPS.zip\"\n",
        " \n",
        "    from os import path\n",
        "    if not path.isfile(local_archive):\n",
        "        import urllib\n",
        "        print(\"Downloading...\")\n",
        "        urllib.request.urlretrieve(archive_url, filename=local_archive)\n",
        "        assert(path.isfile(local_archive))\n",
        "        print(\"Got the archive\")\n",
        "\n",
        "    return ZipFile(local_archive)\n",
        "\n",
        "\n",
        "def getDataSet(archive, dataSetName):\n",
        "    \"\"\" Get a dataset from the FCPS.zip\n",
        "\n",
        "    Args:\n",
        "        archive (ZipFile): Object for the FCPS\n",
        "        dataSetName (String): The dataset name from the FCPS\n",
        "\n",
        "    Returns:\n",
        "        A tuple (Xs, labels)\n",
        "        Xs (numpy array): rows are the elements and the cols are the features\n",
        "        labels (numpy array): labels associated with Xs\n",
        "\n",
        "    \"\"\"\n",
        "    encoding = \"ISO-8859-1\"\n",
        "    path = \"FCPS/01FCPSdata/\" + dataSetName\n",
        " \n",
        "    lrnFile = path + \".lrn\"\n",
        "    with archive.open(lrnFile, \"r\") as f:\n",
        "        N = int(f.readline().decode(encoding).split()[1])\n",
        "        D = int(f.readline().decode(encoding).split()[1])\n",
        "        f.readline()\n",
        "        f.readline()\n",
        "        Xs = np.zeros([N, D-1])\n",
        "        for i in range(N):\n",
        "            data = f.readline().decode(encoding).strip().split(\"\\t\")\n",
        "            assert (len(data) == D)\n",
        "            assert (int(data[0]) == (i + 1))\n",
        "            Xs[i] = np.array(list(map(float, data[1:])))\n",
        "\n",
        "    clsFile = path + \".cls\"\n",
        "    with archive.open(clsFile, \"r\") as f:\n",
        "        labels = np.zeros(N).astype(\"uint\")\n",
        " \n",
        "        line = f.readline().decode(encoding)\n",
        "        while line.startswith(\"%\") or line.startswith(\"#\"):\n",
        "            line = f.readline().decode(encoding)\n",
        " \n",
        "        i = 0\n",
        "        while line and i < N:\n",
        "            data = line.strip().split(\"\\t\")\n",
        "            assert (len(data) == 2)\n",
        "            assert (int(data[0]) == (i + 1))\n",
        "            labels[i] = int(data[1])\n",
        "            line = f.readline().decode(encoding)\n",
        "            i = i + 1\n",
        " \n",
        "        assert (i == N)\n",
        " \n",
        "    return Xs, labels\n",
        "\n",
        "\n",
        "def plotClusters(Xs, labels, centroids, clusters):\n",
        "    \"\"\" Plot the data with the true labels alongside the centroids and the\n",
        "    predicted cluster.\n",
        "    If the elements from the dataset are not 2 or 3 dimensional then print\n",
        "    the index, predicted cluster and true label.\n",
        "\n",
        "    Args:\n",
        "        Xs (numpy array): dataset\n",
        "        labels (numpy array): real/true labels\n",
        "        centroids (numpy array): positions for the centroids\n",
        "        clusters (numpy array): predicted labels\n",
        "    \"\"\"\n",
        "\n",
        "    labelsNo = np.max(labels)\n",
        "    K = centroids.shape[0]\n",
        "\n",
        "    markers = []\n",
        "\n",
        "    while len(markers) < labelsNo:\n",
        "        markers.extend(list(matplotlib.markers.MarkerStyle.filled_markers))\n",
        "\n",
        "    colors = plt.cm.rainbow(np.linspace(0, 1, K+1))\n",
        "    if Xs.shape[1] == 2:\n",
        "        x = Xs[:,0]\n",
        "        y = Xs[:,1]\n",
        "        for (_x, _y, _c, _l) in zip(x, y, clusters, labels):\n",
        "            plt.scatter(_x, _y, s=500, c=[colors[_c]], marker=markers[_l])\n",
        "        plt.scatter(centroids[:,0], centroids[:, 1],\n",
        "                    s=800, c=[colors[K]], marker=markers[labelsNo])\n",
        "        plt.show()\n",
        "    elif Xs.shape[1] == 3:\n",
        "        x = Xs[:,0]\n",
        "        y = Xs[:,1]\n",
        "        z = Xs[:,2]\n",
        "        fig = plt.figure()\n",
        "        ax = fig.add_subplot(111, projection='3d')\n",
        "        for (_x, _y, _z, _c, _l) in zip(x, y, z, clusters, labels):\n",
        "            ax.scatter(_x, _y, _z, s=200, c=[colors[_c]], marker=markers[_l])\n",
        "        ax.scatter(centroids[:,0], centroids[:, 1], centroids[:, 2],\n",
        "                    s=400, c=[colors[K]], marker=markers[labelsNo])\n",
        "        plt.show()\n",
        "    else:\n",
        "        for i in range(Xs.shape[0]):\n",
        "            print(f\"{i} : {clusters[i]} ~ {labels[i]}\")"
      ]
    },
    {
      "cell_type": "markdown",
      "metadata": {
        "colab_type": "text",
        "id": "VgdP78g6rpvv"
      },
      "source": [
        "### Chargement de l'ensemble de données"
      ]
    },
    {
      "cell_type": "code",
      "execution_count": 21,
      "metadata": {
        "colab": {},
        "colab_type": "code",
        "id": "hSpZu4WhroqA"
      },
      "outputs": [],
      "source": [
        "Xs, labels = getDataSet(getArchive(), DATASET_NAME)"
      ]
    },
    {
      "cell_type": "markdown",
      "metadata": {
        "colab_type": "text",
        "id": "2xk677iNQRvQ"
      },
      "source": [
        "## 8. Exigences"
      ]
    },
    {
      "cell_type": "markdown",
      "metadata": {
        "colab_type": "text",
        "id": "uYI7jZaxkT34"
      },
      "source": [
        "1. Implémentez l'algorithme K-Means décrit dans la [Section 3](#scrollTo=Aj8ThCuUKcEB)"
      ]
    },
    {
      "cell_type": "code",
      "execution_count": 22,
      "metadata": {
        "colab": {},
        "colab_type": "code",
        "id": "XmGzukavXg4y"
      },
      "outputs": [
        {
          "data": {
            "image/png": "[encoded data removed]",
            "text/plain": [
              "<Figure size 640x480 with 1 Axes>"
            ]
          },
          "metadata": {},
          "output_type": "display_data"
        }
      ],
      "source": [
        "import math\n",
        "import random\n",
        "\n",
        "def kMeans(K, Xs):\n",
        "    (N, D) = Xs.shape\n",
        " \n",
        "    centroids = np.zeros((K, D))\n",
        "    clusters = np.zeros(N).astype(\"uint\")\n",
        "    new_clusters = np.zeros(N).astype(\"uint\")\n",
        "    \n",
        "    for k in range(K):\n",
        "        imp_values = []\n",
        "        rand_number = None\n",
        "        while rand_number is None or rand_number in imp_values:\n",
        "            rand_number = random.randint(0, N)\n",
        "        centroids[k] = Xs[rand_number]\n",
        "        imp_values.append(rand_number)\n",
        "            \n",
        "    \n",
        "    def dist(a, b):\n",
        "        ret = 0\n",
        "        for i in range(len(a)):\n",
        "            ret += (a[i] - b[i])**2\n",
        "        return math.sqrt(ret)    \n",
        "            \n",
        "    \n",
        "    def in_ik(c_list, x_list, i, k): \n",
        "        k_min = 0\n",
        "        dist_min = math.inf\n",
        "        for k2 in range(K):\n",
        "            if dist(x_list[i], c_list[k2]) < dist_min:\n",
        "                k_min = k2\n",
        "                dist_min = dist(x_list[i], c_list[k2])\n",
        "        if k_min == k:\n",
        "            return 1\n",
        "        return 0\n",
        "    \n",
        "    cond = True\n",
        "\n",
        "    while cond == True:\n",
        "        for i in range(N):\n",
        "            idx = 0\n",
        "            min_dist = +math.inf\n",
        "            for k in range(K):\n",
        "                if dist(Xs[i], centroids[k]) < min_dist: \n",
        "                    min_dist = dist(Xs[i], centroids[k])\n",
        "                    idx = k\n",
        "            new_clusters[i] = idx + 1\n",
        "            \n",
        "        if all(x == y for x, y in zip(clusters, new_clusters)):\n",
        "            cond = False\n",
        "        \n",
        "        clusters = new_clusters\n",
        "        \n",
        "        for k in range(K):\n",
        "            for d in range(D): # recalculare centroizi\n",
        "                centroids[k][d] = sum([in_ik(centroids, Xs, i, k) * Xs[i][d] for i in range(N)]) / sum([in_ik(centroids, Xs, i, k) for i in range(N)])\n",
        "            \n",
        "    \n",
        "    \n",
        "    return clusters, centroids\n",
        "\n",
        "\n",
        "clusters, centroids = kMeans(K, Xs)\n",
        "plotClusters(Xs, labels, centroids, clusters)"
      ]
    },
    {
      "cell_type": "markdown",
      "metadata": {
        "colab_type": "text",
        "id": "Mwf36n5zXN17"
      },
      "source": [
        "2. Implémentez la métrique Rand Index décrite dans la [Section 6.1]\n",
        "\n"
      ]
    },
    {
      "cell_type": "code",
      "execution_count": 23,
      "metadata": {
        "colab": {},
        "colab_type": "code",
        "id": "gLfCL-dAAyf1"
      },
      "outputs": [
        {
          "name": "stdout",
          "output_type": "stream",
          "text": [
            "randIndex: 0.947312210751157\n"
          ]
        }
      ],
      "source": [
        "def randIndex(clusters, labels):\n",
        "    right = 0\n",
        "    total = 0\n",
        "    for i in range(len(clusters)):\n",
        "        for j in range(len(clusters)):\n",
        "            if (clusters[i] == clusters[j]) == (labels[i] == labels[j]):\n",
        "                right += 1\n",
        "            total += 1\n",
        "            \n",
        "    return right / total\n",
        "\n",
        "print(\"randIndex:\", randIndex(clusters, labels))"
      ]
    },
    {
      "cell_type": "markdown",
      "metadata": {
        "colab_type": "text",
        "id": "enL8W9AdAub_"
      },
      "source": [
        "3. Testez l'algorithme implémenté et son efficacité sur les ensembles de données de l'archive. Vous pouvez sélectionner un autre ensemble de données en utilisant DATASET dans les  [Paramètres nécessaires à l'exécution.](#scrollTo=kVQscCaxXfvF).\n",
        "    \n",
        "    **Expliquez pourquoi** sur certains ensembles de données les résultats sont *insatisfaisants*.\n"
      ]
    },
    {
      "cell_type": "markdown",
      "metadata": {
        "colab_type": "text",
        "id": "lj3dmiZ5W4ec"
      },
      "source": [
        "4. Implémentez l'un des deux algorithmes présentés dans la Section 5:\n",
        "* méthode Kaufman pour la sélection des centroïdes initiaux\n",
        "* algorithme K-Means++\n",
        "\n",
        "Comparez les regroupements ainsi obtenus avec ceux obtenus avec l'algorithme K-Means.\n",
        "\n",
        "L'initialisation attentive des centroïdes est-elle utile?"
      ]
    },
    {
      "cell_type": "code",
      "execution_count": 24,
      "metadata": {
        "colab": {},
        "colab_type": "code",
        "id": "hMdEknFmXL6s"
      },
      "outputs": [
        {
          "data": {
            "image/png": "[encoded data removed]",
            "text/plain": [
              "<Figure size 640x480 with 1 Axes>"
            ]
          },
          "metadata": {},
          "output_type": "display_data"
        }
      ],
      "source": [
        "import math\n",
        "import random\n",
        "'''\n",
        "for i in range(2, 9):\n",
        "    K = i\n",
        "    clusters, centroids = kMeans(K, Xs)    \n",
        "    print(\"randIndex:\", randIndex(clusters, labels))'''\n",
        "\n",
        "def kMeans_plus(K, Xs):\n",
        "    (N, D) = Xs.shape\n",
        " \n",
        "    centroids = np.zeros((K, D))\n",
        "    clusters = np.zeros(N).astype(\"uint\")\n",
        "    new_clusters = np.zeros(N).astype(\"uint\")\n",
        "                \n",
        "    \n",
        "    def dist(a, b):\n",
        "        ret = 0\n",
        "        for i in range(len(a)):\n",
        "            ret += (a[i] - b[i])**2\n",
        "        return math.sqrt(ret)\n",
        "    \n",
        "    def dist_centroid(point):\n",
        "        min_dist = math.inf\n",
        "        for cent in centroids:\n",
        "            if not all(cent[d] == 0 for d in range(D)):\n",
        "                if dist(point, cent) < min_dist:\n",
        "                    min_dist = dist(point, cent)\n",
        "        return min_dist\n",
        "    \n",
        "        \n",
        "    \n",
        "    centroids[0] = Xs[random.randint(0, N)]\n",
        "            \n",
        "    for k in range(1, K):\n",
        "        random_number = np.random.rand()\n",
        "        counter = 0\n",
        "        for i in range(N):\n",
        "            counter += dist_centroid(Xs[i])**2 / sum(dist_centroid(Xs[j])**2 for j in range(K))\n",
        "            if counter > random_number:\n",
        "                centroids[k] = Xs[i]\n",
        "                break\n",
        "        \n",
        "            \n",
        "    \n",
        "    def in_ik(c_list, x_list, i, k): # erreur ici\n",
        "        k_min = 0\n",
        "        dist_min = math.inf\n",
        "        for k2 in range(K):\n",
        "            if dist(x_list[i], c_list[k2]) < dist_min:\n",
        "                k_min = k2\n",
        "                dist_min = dist(x_list[i], c_list[k2])\n",
        "        if k_min == k:\n",
        "            return 1\n",
        "        return 0\n",
        "    \n",
        "    cond = True\n",
        "\n",
        "    while cond == True:\n",
        "        for i in range(N):\n",
        "            idx = 0\n",
        "            min_dist = +math.inf\n",
        "            for k in range(K):\n",
        "                if dist(Xs[i], centroids[k]) < min_dist: \n",
        "                    min_dist = dist(Xs[i], centroids[k])\n",
        "                    idx = k\n",
        "            new_clusters[i] = idx+1\n",
        "            \n",
        "        if all(x == y for x, y in zip(clusters, new_clusters)):\n",
        "            cond = False\n",
        "        \n",
        "        clusters = new_clusters\n",
        "        \n",
        "        for k in range(K):\n",
        "            for d in range(D):\n",
        "                centroids[k][d] = sum([in_ik(centroids, Xs, i, k) * Xs[i][d] for i in range(N)]) / sum([in_ik(centroids, Xs, i, k) for i in range(N)])\n",
        "            \n",
        "    \n",
        "    \n",
        "    return clusters, centroids\n",
        "\n",
        "\n",
        "clusters, centroids = kMeans_plus(K, Xs)\n",
        "plotClusters(Xs, labels, centroids, clusters)"
      ]
    },
    {
      "cell_type": "markdown",
      "metadata": {
        "colab_type": "text",
        "id": "muZzrV7uVxXv"
      },
      "source": [
        "## 9. Ensemble de Données\n",
        "\n",
        "Dans ce laboratoire, vous utiliserez les ensembles de données [FCPS](https://github.com/cs-pub-ro/ML/raw/master/lab/lab1/FCPS.zip) (Fundamental Clustering Problem Suite) de l'Université Philipps de Marburg.\n",
        "\n",
        "Pour chaque ensemble de données, vous trouverez les fichiers suivants dans le sous-répertoire 01FCPSdata:\n",
        "\n",
        "* $<$nom$>$.lrn - l'ensemble de données avec un identifiant pour chaque objet,\n",
        "* $<$nom$>$.cls - les classes réelles des objets.\n",
        "\n",
        "Les colonnes sont séparées par des tabulations."
      ]
    },
    {
      "cell_type": "markdown",
      "metadata": {
        "colab_type": "text",
        "id": "QtkW7x139Us6"
      },
      "source": [
        "# Bibliographie\n",
        "<a name=\"M67\">[1] *James MacQueen et al. Some methods for classification and analysis of multivariate observations. In Proceedings of the fifth Berkeley symposium on mathematical statistics and probability, volume 1, pages 281–297. California, USA, 1967*</a>\n",
        "\n",
        "<a name=\"AV07\">[2] *David Arthur and Sergei Vassilvitskii. k-means++: The advantages of careful seeding. In Proceedings of the eighteenth annual ACM-SIAM symposium on Discrete algorithms, pages 1027–1035. Society for Industrial and Applied Mathematics, 2007*</a>\n",
        "\n",
        "<a name=\"PLL99\">[3] *José Manuel Pena, Jose Antonio Lozano, and Pedro Larranaga. An empirical comparison of four initialization methods for the K-Means algorithm. Pattern recognition letters, 20(10):1027–1040, 1999*</a>\n"
      ]
    }
  ],
  "metadata": {
    "colab": {
      "authorship_tag": "ABX9TyPBgK7FlhLIDXnM62J+RICq",
      "collapsed_sections": [
        "vwR9zMQRtihy",
        "C5l_vdbW6enZ",
        "kVQscCaxXfvF",
        "3Q9tBSFJYt5D",
        "VgdP78g6rpvv",
        "2xk677iNQRvQ"
      ],
      "include_colab_link": true,
      "name": "Laborator 1.ipynb",
      "provenance": [],
      "toc_visible": true
    },
    "kernelspec": {
      "display_name": "Python 3",
      "name": "python3"
    },
    "language_info": {
      "codemirror_mode": {
        "name": "ipython",
        "version": 3
      },
      "file_extension": ".py",
      "mimetype": "text/x-python",
      "name": "python",
      "nbconvert_exporter": "python",
      "pygments_lexer": "ipython3",
      "version": "3.13.0"
    }
  },
  "nbformat": 4,
  "nbformat_minor": 0
}
